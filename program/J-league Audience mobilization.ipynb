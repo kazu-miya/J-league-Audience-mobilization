{
 "cells": [
  {
   "cell_type": "code",
   "execution_count": 1,
   "metadata": {},
   "outputs": [],
   "source": [
    "import glob, re\n",
    "import numpy as np\n",
    "import pandas as pd\n",
    "from sklearn import*\n",
    "from datetime import datetime\n",
    "from xgboost import XGBRegressor"
   ]
  },
  {
   "cell_type": "code",
   "execution_count": 369,
   "metadata": {},
   "outputs": [],
   "source": [
    "data = {\n",
    "    'tra': pd.read_csv('../input/J-league/train.csv'),\n",
    "    'tes': pd.read_csv('../input/J-league/test.csv'),\n",
    "    '14_ad': pd.read_csv('../input/J-league/2014_add.csv'),\n",
    "    'cd': pd.read_csv('../input/J-league/condition.csv'),\n",
    "    'cd_ad': pd.read_csv('../input/J-league/condition_add.csv'),\n",
    "    'tr_ad': pd.read_csv('../input/J-league/train_add.csv'),\n",
    "    'st': pd.read_csv('../input/J-league/stadium.csv'),\n",
    "    'ss': pd.read_csv('../input/J-league/sample_submit.csv',header=None)\n",
    "    }"
   ]
  },
  {
   "cell_type": "code",
   "execution_count": 370,
   "metadata": {},
   "outputs": [
    {
     "name": "stderr",
     "output_type": "stream",
     "text": [
      "C:\\Users\\miyak\\Anaconda3\\lib\\site-packages\\pandas\\core\\frame.py:6692: FutureWarning: Sorting because non-concatenation axis is not aligned. A future version\n",
      "of pandas will change to not sort by default.\n",
      "\n",
      "To accept the future behavior, pass 'sort=False'.\n",
      "\n",
      "To retain the current behavior and silence the warning, pass 'sort=True'.\n",
      "\n",
      "  sort=sort)\n"
     ]
    }
   ],
   "source": [
    "data['tra']=data['tra'].append(data['tr_ad'])\n",
    "data['tra']=data['tra'].sort_values('id').reset_index(drop=True)\n",
    "data_2012=data['tra'][data['tra'].year==2012]\n",
    "data_2013=data['tra'][data['tra'].year==2013].reset_index(drop=True)\n",
    "data_2014=data['tra'][data['tra'].year==2014]\n",
    "#2014年度データ結合\n",
    "data_2014_all=data_2014.append(data['tes']).reset_index(drop=True)"
   ]
  },
  {
   "cell_type": "code",
   "execution_count": 371,
   "metadata": {},
   "outputs": [],
   "source": [
    "#ホームでの試合回数の関数\n",
    "def home_match_count(s):\n",
    "    a=[]\n",
    "    team=[]\n",
    "    for i in range(len(s)):\n",
    "        if True not in [j in s[i] for j in team]:\n",
    "            team.append(s[i])\n",
    "            a.append(1)\n",
    "        else:\n",
    "            team.append(s[i])\n",
    "            a.append(team.count(s[i]))\n",
    "    return a"
   ]
  },
  {
   "cell_type": "code",
   "execution_count": 372,
   "metadata": {},
   "outputs": [],
   "source": [
    "a=home_match_count(data_2012['home'])\n",
    "b=home_match_count(data_2013['home'])\n",
    "c=home_match_count(data_2014_all['home'])"
   ]
  },
  {
   "cell_type": "code",
   "execution_count": 373,
   "metadata": {},
   "outputs": [
    {
     "name": "stderr",
     "output_type": "stream",
     "text": [
      "C:\\Users\\miyak\\Anaconda3\\lib\\site-packages\\ipykernel_launcher.py:3: SettingWithCopyWarning: \n",
      "A value is trying to be set on a copy of a slice from a DataFrame.\n",
      "Try using .loc[row_indexer,col_indexer] = value instead\n",
      "\n",
      "See the caveats in the documentation: http://pandas.pydata.org/pandas-docs/stable/indexing.html#indexing-view-versus-copy\n",
      "  This is separate from the ipykernel package so we can avoid doing imports until\n"
     ]
    }
   ],
   "source": [
    "#home_match_countを全ての年に代入\n",
    "home_match_count=pd.DataFrame(data=a).rename(columns={0: 'home_match_count'})\n",
    "data_2012['home_match_count']=home_match_count\n",
    "home_match_count=pd.DataFrame(data=b).rename(columns={0: 'home_match_count'})\n",
    "data_2013['home_match_count']=home_match_count\n",
    "home_match_count=pd.DataFrame(data=c).rename(columns={0: 'home_match_count'})\n",
    "data_2014_all['home_match_count']=home_match_count"
   ]
  },
  {
   "cell_type": "code",
   "execution_count": 374,
   "metadata": {},
   "outputs": [],
   "source": [
    "#2014年度データ再分割\n",
    "data['tes']=data_2014_all[data_2014_all.y.isnull()].reset_index(drop=True)\n",
    "data['tes']=data['tes'].drop('y', axis=1)\n",
    "data_2014=data_2014_all[data_2014_all.y.isnull()==False]"
   ]
  },
  {
   "cell_type": "code",
   "execution_count": 375,
   "metadata": {},
   "outputs": [],
   "source": [
    "data['tra']=data_2012.append(data_2013).sort_values('id').reset_index(drop=True)\n",
    "cols=list(data['tra'].columns)\n",
    "#data_2014のcolumnの並び替え\n",
    "data_2014=data_2014[cols]\n",
    "#trainデータリセット\n",
    "data['tra']=data['tra'].append(data_2014).sort_values('id').reset_index(drop=True)\n",
    "#来場者0人のデータを削除\n",
    "data['tra']=data['tra'][data['tra'].y!=0].reset_index(drop=True)"
   ]
  },
  {
   "cell_type": "code",
   "execution_count": 376,
   "metadata": {},
   "outputs": [],
   "source": [
    "unique_teams = data['tes']['home'].unique()\n",
    "teams=pd.concat([pd.DataFrame({'home': unique_teams, 'home_match_count': [i]*len(unique_teams)}) for i in np.arange(1,22)], axis=0, ignore_index=True).reset_index(drop=True)\n",
    "#デフォルトでグループラベルが index になる。index にしたく無い場合は as_index=False を指定する。\n",
    "#ホームでの1試合目、2試合目ごとの平均(2012～2014)\n",
    "tmp=data['tra'].groupby(['home','home_match_count'], as_index=False)['y'].mean().rename(columns={'y':'mean_y'})\n",
    "teams = pd.merge(teams, tmp, how='left', on=['home','home_match_count'])"
   ]
  },
  {
   "cell_type": "code",
   "execution_count": 377,
   "metadata": {},
   "outputs": [],
   "source": [
    "#home_match_count結合\n",
    "data['tra']=pd.merge(data['tra'], teams, how='left', on=['home','home_match_count'])\n",
    "data['tes']=pd.merge(data['tes'], teams, how='left', on=['home','home_match_count'])\n",
    "cols_tes=list(data['tra'].columns)\n",
    "cols_tes.remove('y')\n",
    "data['tes']=data['tes'][cols_tes]"
   ]
  },
  {
   "cell_type": "code",
   "execution_count": 378,
   "metadata": {},
   "outputs": [
    {
     "name": "stderr",
     "output_type": "stream",
     "text": [
      "C:\\Users\\miyak\\Anaconda3\\lib\\site-packages\\ipykernel_launcher.py:3: FutureWarning: Sorting because non-concatenation axis is not aligned. A future version\n",
      "of pandas will change to not sort by default.\n",
      "\n",
      "To accept the future behavior, pass 'sort=False'.\n",
      "\n",
      "To retain the current behavior and silence the warning, pass 'sort=True'.\n",
      "\n",
      "  This is separate from the ipykernel package so we can avoid doing imports until\n"
     ]
    }
   ],
   "source": [
    "#前処理2\n",
    "cols_all=list(data['tra'].columns)\n",
    "all_data=pd.concat([data['tra'], data['tes']], axis=0).sort_values('id').reset_index(drop=True)\n",
    "all_data=all_data[cols_all]"
   ]
  },
  {
   "cell_type": "code",
   "execution_count": 379,
   "metadata": {},
   "outputs": [],
   "source": [
    "all_data['dow']=all_data['gameday'].apply(lambda x: str(x).split('(')[1])\n",
    "all_data['hol']=all_data['dow'].apply(lambda x: x.replace(str(x),'1') if len(str(x))>2 else 0)\n",
    "all_data['hol']=all_data['hol'].astype(int)\n",
    "#day作成\n",
    "all_data['day']=all_data['gameday'].apply(lambda x: str(x).split('(')[0])\n",
    "all_data['day']=all_data['day'].map(lambda x: str(x).replace('/',''))\n",
    "#year文字列変換\n",
    "all_data['year']=all_data['year'].astype(str)\n",
    "#data_int作成\n",
    "all_data['data_int']=(all_data['year']+all_data['day']).astype(int)\n",
    "cols_drop=['year','match','gameday','day']\n",
    "all_data=all_data.drop(cols_drop, axis=1)\n",
    "#timeは':'で分けて時のみをastype(int)\n",
    "all_data['time']=all_data['time'].map(lambda x:str(x).split(':')[0]).astype(int)\n",
    "#tvラベルエンコーディング\n",
    "lbl = preprocessing.LabelEncoder()\n",
    "for i in range(5):\n",
    "    all_data['tv'+str(i)] = lbl.fit_transform(all_data['tv'].map(lambda x: str(str(x).split('／')[i]) if len(str(x).split('／'))>i else ''))\n",
    "    all_data['tv'+str(i)] = lbl.fit_transform(all_data['tv'].map(lambda x: str(str(x).split('／')[i]) if len(str(x).split('／'))>i else ''))\n",
    "all_data=all_data.drop('tv', axis=1)\n",
    "all_data['home']=lbl.fit_transform(all_data['home'])\n",
    "#ラベルエンコーディング\n",
    "for i in ['stage','away','dow']:\n",
    "    all_data[i]=lbl.fit_transform(all_data[i])"
   ]
  },
  {
   "cell_type": "code",
   "execution_count": 380,
   "metadata": {},
   "outputs": [
    {
     "data": {
      "text/plain": [
       "(2265, 17)"
      ]
     },
     "execution_count": 380,
     "metadata": {},
     "output_type": "execute_result"
    }
   ],
   "source": [
    "#特徴量2終了\n",
    "all_data.shape"
   ]
  },
  {
   "cell_type": "code",
   "execution_count": 381,
   "metadata": {},
   "outputs": [],
   "source": [
    "data['st']=data['st'].rename(columns={'name':'stadium'})\n",
    "data['st']['prefecture']=data['st']['address'].apply(lambda x: re.split('[都県道府]', x)[0])\n",
    "data['st']['city']=data['st']['address'].apply(lambda x: re.split('[都県市区]', x)[1]) \n",
    "data['st']=data['st'].drop('address',axis=1)\n",
    "for i in ['prefecture','city']:\n",
    "    data['st'][i]=lbl.fit_transform(data['st'][i])"
   ]
  },
  {
   "cell_type": "code",
   "execution_count": 382,
   "metadata": {},
   "outputs": [],
   "source": [
    "#スタジアムデータ結合\n",
    "all_data=pd.merge(all_data, data['st'], how='inner', on=['stadium']).sort_values('id').reset_index(drop=True)\n",
    "all_data['stadium']=lbl.fit_transform(all_data['stadium'])"
   ]
  },
  {
   "cell_type": "code",
   "execution_count": 383,
   "metadata": {},
   "outputs": [],
   "source": [
    "#data['cd'](コンディションデータ処理)\n",
    "#ad追加\n",
    "data['cd']=data['cd'].append(data['cd_ad']).sort_values('id').reset_index(drop=True)\n",
    "\n",
    "H_member=['home_01','home_02','home_03','home_04','home_05','home_06','home_07','home_08'\n",
    "         ,'home_09','home_10','home_11']\n",
    "\n",
    "A_member=['away_01','away_02','away_03','away_04','away_05','away_06','away_07','away_08'\n",
    "         ,'away_09','away_10','away_11']\n",
    "\n",
    "#チーム名文字修正\n",
    "data['cd']['home_team']=data['cd']['home_team'].map(lambda x : str(x).replace('・',''))\n",
    "data['cd']['home_team']=data['cd']['home_team'].map(lambda x : str(x).replace('.',''))\n",
    "\n",
    "#選手の苗字と名前のスペース削除\n",
    "for i in H_member:\n",
    "    data['cd'][i]=data['cd'][i].map(lambda x: str(x).replace('　',''))\n",
    "    \n",
    "for i in A_member:\n",
    "    data['cd'][i]=data['cd'][i].map(lambda x: str(x).replace('　',''))"
   ]
  },
  {
   "cell_type": "code",
   "execution_count": 384,
   "metadata": {},
   "outputs": [],
   "source": [
    "teams=data['cd']['home_team'].unique()\n",
    "teams_member=data['cd']['home_team'].unique()\n",
    "\n",
    "for i in range(len(H_member)):\n",
    "    H_member[i]=data['cd'].groupby('home_team')[H_member[i]].unique()\n",
    "    \n",
    "for j in range(len(teams)):\n",
    "    a=[]\n",
    "    for i in range(len(H_member)):\n",
    "        a.extend(H_member[i][teams[j]])\n",
    "    s=pd.unique(a)\n",
    "    teams_member[j]=s\n",
    "\n",
    "#チームをラベルエンコーディング\n",
    "team_list=teams.tolist()\n",
    "data['cd']['home_team']=data['cd']['home_team'].map(lambda x: str(x).replace(str(x),str(team_list.index(str(x)))))\n",
    "data['cd']['home_team']=data['cd']['home_team'].astype(int)"
   ]
  },
  {
   "cell_type": "code",
   "execution_count": 385,
   "metadata": {},
   "outputs": [],
   "source": [
    "def member_num(a):\n",
    "    s=[]\n",
    "    for i in range(len(data['cd'])):\n",
    "        s.append(teams_member[data['cd']['home_team'][i]].tolist().index(data['cd'][a][i]))\n",
    "    return s\n",
    "\n",
    "home_01=member_num('home_01')\n",
    "home_02=member_num('home_02')\n",
    "home_03=member_num('home_03')\n",
    "home_04=member_num('home_04')\n",
    "home_05=member_num('home_05')\n",
    "home_06=member_num('home_06')\n",
    "home_07=member_num('home_07')\n",
    "home_08=member_num('home_08')\n",
    "home_09=member_num('home_09')\n",
    "home_10=member_num('home_10')\n",
    "home_11=member_num('home_11')\n",
    "\n",
    "home=['home_01','home_02','home_03','home_04','home_05','home_06','home_07','home_08'\n",
    "     ,'home_09','home_10','home_11']\n",
    "data['cd']=data['cd'].drop(home,axis=1)\n",
    "\n",
    "home_member=pd.DataFrame({'home_01':home_01,'home_02':home_02,'home_03':home_03,'home_04':home_04,'home_05':home_05,'home_06':home_06,'home_07':home_07,'home_08':home_08,\n",
    "             'home_09':home_09,'home_10':home_10,'home_11':home_11})\n",
    "\n",
    "data['cd']=pd.concat([data['cd'],home_member], axis=1)\n",
    "#home_teamエンコーディング終了"
   ]
  },
  {
   "cell_type": "code",
   "execution_count": 386,
   "metadata": {},
   "outputs": [],
   "source": [
    "#アウェーチーム\n",
    "a_teams=data['cd']['away_team'].unique()\n",
    "a_teams_member=data['cd']['away_team'].unique()\n",
    "\n",
    "for i in range(len(A_member)):\n",
    "    A_member[i]=data['cd'].groupby('away_team')[A_member[i]].unique()\n",
    "    \n",
    "for j in range(len(a_teams)):\n",
    "    a=[]\n",
    "    for i in range(len(A_member)):\n",
    "        a.extend(A_member[i][a_teams[j]])\n",
    "    s=pd.unique(a)\n",
    "    a_teams_member[j]=s\n",
    "\n",
    "#チームをラベルエンコーディング\n",
    "a_team_list=a_teams.tolist()\n",
    "data['cd']['away_team']=data['cd']['away_team'].map(lambda x: str(x).replace(str(x),str(a_team_list.index(str(x)))))\n",
    "data['cd']['away_team']=data['cd']['away_team'].astype(int)"
   ]
  },
  {
   "cell_type": "code",
   "execution_count": 387,
   "metadata": {},
   "outputs": [],
   "source": [
    "def a_member_num(a):\n",
    "    s=[]\n",
    "    for i in range(len(data['cd'])):\n",
    "        s.append(a_teams_member[data['cd']['away_team'][i]].tolist().index(data['cd'][a][i]))\n",
    "    return s\n",
    "\n",
    "away_01=a_member_num('away_01')\n",
    "away_02=a_member_num('away_02')\n",
    "away_03=a_member_num('away_03')\n",
    "away_04=a_member_num('away_04')\n",
    "away_05=a_member_num('away_05')\n",
    "away_06=a_member_num('away_06')\n",
    "away_07=a_member_num('away_07')\n",
    "away_08=a_member_num('away_08')\n",
    "away_09=a_member_num('away_09')\n",
    "away_10=a_member_num('away_10')\n",
    "away_11=a_member_num('away_11')\n",
    "\n",
    "away=['away_01','away_02','away_03','away_04','away_05','away_06','away_07','away_08'\n",
    "     ,'away_09','away_10','away_11']\n",
    "data['cd']=data['cd'].drop(away,axis=1)\n",
    "\n",
    "away_member=pd.DataFrame({'away_01':away_01,'away_02':away_02,'away_03':away_03,'away_04':away_04,'away_05':away_05,'away_06':away_06,'away_07':away_07,'away_08':away_08,\n",
    "             'away_09':away_09,'away_10':away_10,'away_11':away_11})\n",
    "\n",
    "data['cd']=pd.concat([data['cd'],away_member], axis=1)\n",
    "#away_teamエンコーディング終了"
   ]
  },
  {
   "cell_type": "code",
   "execution_count": 388,
   "metadata": {},
   "outputs": [],
   "source": [
    "#その他ラベルエンコーディング\n",
    "data['cd']['humidity']=data['cd']['humidity'].map(lambda x: str(x).replace('%',''))\n",
    "data['cd']['humidity']=data['cd']['humidity'].astype(int)\n",
    "lbl = preprocessing.LabelEncoder()\n",
    "for i in ['weather','referee']:\n",
    "    data['cd'][i]=lbl.fit_transform(data['cd'][i])"
   ]
  },
  {
   "cell_type": "code",
   "execution_count": 389,
   "metadata": {},
   "outputs": [
    {
     "data": {
      "text/html": [
       "<div>\n",
       "<style scoped>\n",
       "    .dataframe tbody tr th:only-of-type {\n",
       "        vertical-align: middle;\n",
       "    }\n",
       "\n",
       "    .dataframe tbody tr th {\n",
       "        vertical-align: top;\n",
       "    }\n",
       "\n",
       "    .dataframe thead th {\n",
       "        text-align: right;\n",
       "    }\n",
       "</style>\n",
       "<table border=\"1\" class=\"dataframe\">\n",
       "  <thead>\n",
       "    <tr style=\"text-align: right;\">\n",
       "      <th></th>\n",
       "      <th>id</th>\n",
       "      <th>home_score</th>\n",
       "      <th>away_score</th>\n",
       "      <th>weather</th>\n",
       "      <th>temperature</th>\n",
       "      <th>humidity</th>\n",
       "      <th>referee</th>\n",
       "      <th>home_team</th>\n",
       "      <th>away_team</th>\n",
       "      <th>home_01</th>\n",
       "      <th>...</th>\n",
       "      <th>away_02</th>\n",
       "      <th>away_03</th>\n",
       "      <th>away_04</th>\n",
       "      <th>away_05</th>\n",
       "      <th>away_06</th>\n",
       "      <th>away_07</th>\n",
       "      <th>away_08</th>\n",
       "      <th>away_09</th>\n",
       "      <th>away_10</th>\n",
       "      <th>away_11</th>\n",
       "    </tr>\n",
       "  </thead>\n",
       "  <tbody>\n",
       "    <tr>\n",
       "      <th>0</th>\n",
       "      <td>13994</td>\n",
       "      <td>1</td>\n",
       "      <td>0</td>\n",
       "      <td>26</td>\n",
       "      <td>3.8</td>\n",
       "      <td>66</td>\n",
       "      <td>35</td>\n",
       "      <td>0</td>\n",
       "      <td>0</td>\n",
       "      <td>0</td>\n",
       "      <td>...</td>\n",
       "      <td>1</td>\n",
       "      <td>5</td>\n",
       "      <td>8</td>\n",
       "      <td>10</td>\n",
       "      <td>3</td>\n",
       "      <td>14</td>\n",
       "      <td>15</td>\n",
       "      <td>25</td>\n",
       "      <td>30</td>\n",
       "      <td>23</td>\n",
       "    </tr>\n",
       "    <tr>\n",
       "      <th>1</th>\n",
       "      <td>13995</td>\n",
       "      <td>1</td>\n",
       "      <td>0</td>\n",
       "      <td>0</td>\n",
       "      <td>12.4</td>\n",
       "      <td>43</td>\n",
       "      <td>48</td>\n",
       "      <td>1</td>\n",
       "      <td>1</td>\n",
       "      <td>0</td>\n",
       "      <td>...</td>\n",
       "      <td>4</td>\n",
       "      <td>13</td>\n",
       "      <td>7</td>\n",
       "      <td>16</td>\n",
       "      <td>14</td>\n",
       "      <td>5</td>\n",
       "      <td>25</td>\n",
       "      <td>29</td>\n",
       "      <td>23</td>\n",
       "      <td>26</td>\n",
       "    </tr>\n",
       "    <tr>\n",
       "      <th>2</th>\n",
       "      <td>13996</td>\n",
       "      <td>2</td>\n",
       "      <td>3</td>\n",
       "      <td>8</td>\n",
       "      <td>11.3</td>\n",
       "      <td>41</td>\n",
       "      <td>52</td>\n",
       "      <td>2</td>\n",
       "      <td>2</td>\n",
       "      <td>0</td>\n",
       "      <td>...</td>\n",
       "      <td>3</td>\n",
       "      <td>13</td>\n",
       "      <td>14</td>\n",
       "      <td>15</td>\n",
       "      <td>25</td>\n",
       "      <td>21</td>\n",
       "      <td>33</td>\n",
       "      <td>23</td>\n",
       "      <td>28</td>\n",
       "      <td>26</td>\n",
       "    </tr>\n",
       "    <tr>\n",
       "      <th>3</th>\n",
       "      <td>13997</td>\n",
       "      <td>1</td>\n",
       "      <td>0</td>\n",
       "      <td>20</td>\n",
       "      <td>11.4</td>\n",
       "      <td>52</td>\n",
       "      <td>38</td>\n",
       "      <td>3</td>\n",
       "      <td>3</td>\n",
       "      <td>0</td>\n",
       "      <td>...</td>\n",
       "      <td>3</td>\n",
       "      <td>6</td>\n",
       "      <td>10</td>\n",
       "      <td>11</td>\n",
       "      <td>15</td>\n",
       "      <td>19</td>\n",
       "      <td>12</td>\n",
       "      <td>17</td>\n",
       "      <td>23</td>\n",
       "      <td>27</td>\n",
       "    </tr>\n",
       "    <tr>\n",
       "      <th>4</th>\n",
       "      <td>13998</td>\n",
       "      <td>0</td>\n",
       "      <td>0</td>\n",
       "      <td>0</td>\n",
       "      <td>22.5</td>\n",
       "      <td>32</td>\n",
       "      <td>30</td>\n",
       "      <td>4</td>\n",
       "      <td>4</td>\n",
       "      <td>0</td>\n",
       "      <td>...</td>\n",
       "      <td>3</td>\n",
       "      <td>11</td>\n",
       "      <td>15</td>\n",
       "      <td>14</td>\n",
       "      <td>19</td>\n",
       "      <td>24</td>\n",
       "      <td>26</td>\n",
       "      <td>31</td>\n",
       "      <td>30</td>\n",
       "      <td>36</td>\n",
       "    </tr>\n",
       "  </tbody>\n",
       "</table>\n",
       "<p>5 rows × 31 columns</p>\n",
       "</div>"
      ],
      "text/plain": [
       "      id  home_score  away_score  weather  temperature  humidity  referee  \\\n",
       "0  13994           1           0       26          3.8        66       35   \n",
       "1  13995           1           0        0         12.4        43       48   \n",
       "2  13996           2           3        8         11.3        41       52   \n",
       "3  13997           1           0       20         11.4        52       38   \n",
       "4  13998           0           0        0         22.5        32       30   \n",
       "\n",
       "   home_team  away_team  home_01  ...  away_02  away_03  away_04  away_05  \\\n",
       "0          0          0        0  ...        1        5        8       10   \n",
       "1          1          1        0  ...        4       13        7       16   \n",
       "2          2          2        0  ...        3       13       14       15   \n",
       "3          3          3        0  ...        3        6       10       11   \n",
       "4          4          4        0  ...        3       11       15       14   \n",
       "\n",
       "   away_06  away_07  away_08  away_09  away_10  away_11  \n",
       "0        3       14       15       25       30       23  \n",
       "1       14        5       25       29       23       26  \n",
       "2       25       21       33       23       28       26  \n",
       "3       15       19       12       17       23       27  \n",
       "4       19       24       26       31       30       36  \n",
       "\n",
       "[5 rows x 31 columns]"
      ]
     },
     "execution_count": 389,
     "metadata": {},
     "output_type": "execute_result"
    }
   ],
   "source": [
    "#data['cd']終わり\n",
    "data['cd'].head()"
   ]
  },
  {
   "cell_type": "code",
   "execution_count": 390,
   "metadata": {},
   "outputs": [],
   "source": [
    "all_data=pd.merge(all_data, data['cd'], how='inner', on=['id']).sort_values('id').reset_index(drop=True)"
   ]
  },
  {
   "cell_type": "code",
   "execution_count": 391,
   "metadata": {},
   "outputs": [],
   "source": [
    "test_p=all_data[all_data.y.isnull()].reset_index(drop=True)\n",
    "test=test_p.drop(['id','y'],axis=1)"
   ]
  },
  {
   "cell_type": "code",
   "execution_count": 392,
   "metadata": {},
   "outputs": [],
   "source": [
    "train_p=all_data[all_data.y.isnull()==False]\n",
    "train_x=train_p.drop(['id','y'],axis=1)\n",
    "train_y=train_p['y'].values"
   ]
  },
  {
   "cell_type": "code",
   "execution_count": 393,
   "metadata": {},
   "outputs": [],
   "source": [
    "test=test.fillna(-1)\n",
    "train_x=train_x.fillna(-1)"
   ]
  },
  {
   "cell_type": "code",
   "execution_count": 394,
   "metadata": {},
   "outputs": [],
   "source": [
    "def RMSLE(y, pred):\n",
    "    return metrics.mean_squared_error(y, pred)**0.5"
   ]
  },
  {
   "cell_type": "code",
   "execution_count": 395,
   "metadata": {},
   "outputs": [],
   "source": [
    "model1 = ensemble.GradientBoostingRegressor(learning_rate=0.1, random_state=3, n_estimators=150, subsample=0.8, \n",
    "                      max_depth =3)\n",
    "model2 = neighbors.KNeighborsRegressor(n_jobs=-1, n_neighbors=4)\n",
    "model3 = XGBRegressor(learning_rate=0.1, random_state=3, n_estimators=230, subsample=0.8, \n",
    "                      colsample_bytree=0.8, max_depth =3)"
   ]
  },
  {
   "cell_type": "code",
   "execution_count": 396,
   "metadata": {},
   "outputs": [],
   "source": [
    "model1.fit(train_x, np.log1p(train_y))\n",
    "model2.fit(train_x, np.log1p(train_y))\n",
    "model3.fit(train_x, np.log1p(train_y))\n",
    "\n",
    "preds1 = model1.predict(train_x)\n",
    "preds2 = model2.predict(train_x)\n",
    "preds3 = model3.predict(train_x)"
   ]
  },
  {
   "cell_type": "code",
   "execution_count": 397,
   "metadata": {},
   "outputs": [
    {
     "name": "stdout",
     "output_type": "stream",
     "text": [
      "RMSE GradientBoostingRegressor:  0.16526120980960385\n",
      "RMSE KNeighborsRegressor:  0.21066092198735972\n",
      "RMSE XGBRegressor:  0.15028585602530076\n"
     ]
    }
   ],
   "source": [
    "print('RMSE GradientBoostingRegressor: ', RMSLE(np.log1p(train_y), preds1))\n",
    "print('RMSE KNeighborsRegressor: ', RMSLE(np.log1p(train_y), preds2))\n",
    "print('RMSE XGBRegressor: ', RMSLE(np.log1p(train_y), preds3))"
   ]
  },
  {
   "cell_type": "code",
   "execution_count": 398,
   "metadata": {},
   "outputs": [],
   "source": [
    "preds1 = model1.predict(test)\n",
    "preds2 = model2.predict(test)\n",
    "preds3 = model3.predict(test)"
   ]
  },
  {
   "cell_type": "code",
   "execution_count": 399,
   "metadata": {},
   "outputs": [],
   "source": [
    "ans = 0.3*preds1+0.3*preds2+0.4*preds3"
   ]
  },
  {
   "cell_type": "code",
   "execution_count": 400,
   "metadata": {},
   "outputs": [],
   "source": [
    "ans = np.expm1(ans)"
   ]
  },
  {
   "cell_type": "code",
   "execution_count": 401,
   "metadata": {},
   "outputs": [
    {
     "data": {
      "text/plain": [
       "(313, 2)"
      ]
     },
     "execution_count": 401,
     "metadata": {},
     "output_type": "execute_result"
    }
   ],
   "source": [
    "data['ss'].shape"
   ]
  },
  {
   "cell_type": "code",
   "execution_count": 402,
   "metadata": {},
   "outputs": [],
   "source": [
    "data['ss']=data['ss'].drop([1],axis=1)"
   ]
  },
  {
   "cell_type": "code",
   "execution_count": 403,
   "metadata": {},
   "outputs": [],
   "source": [
    "data['ss']=data['ss'].values.flatten()"
   ]
  },
  {
   "cell_type": "code",
   "execution_count": 404,
   "metadata": {},
   "outputs": [],
   "source": [
    "df_result=pd.DataFrame({0:data['ss'],1:ans})"
   ]
  },
  {
   "cell_type": "code",
   "execution_count": 405,
   "metadata": {},
   "outputs": [],
   "source": [
    "df_result.to_csv(\"sample_submit5.csv\",index=False,header=False)"
   ]
  },
  {
   "cell_type": "code",
   "execution_count": 406,
   "metadata": {},
   "outputs": [
    {
     "data": {
      "text/html": [
       "<div>\n",
       "<style scoped>\n",
       "    .dataframe tbody tr th:only-of-type {\n",
       "        vertical-align: middle;\n",
       "    }\n",
       "\n",
       "    .dataframe tbody tr th {\n",
       "        vertical-align: top;\n",
       "    }\n",
       "\n",
       "    .dataframe thead th {\n",
       "        text-align: right;\n",
       "    }\n",
       "</style>\n",
       "<table border=\"1\" class=\"dataframe\">\n",
       "  <thead>\n",
       "    <tr style=\"text-align: right;\">\n",
       "      <th></th>\n",
       "      <th>0</th>\n",
       "      <th>1</th>\n",
       "    </tr>\n",
       "  </thead>\n",
       "  <tbody>\n",
       "    <tr>\n",
       "      <th>0</th>\n",
       "      <td>15822</td>\n",
       "      <td>13251.693829</td>\n",
       "    </tr>\n",
       "    <tr>\n",
       "      <th>1</th>\n",
       "      <td>15823</td>\n",
       "      <td>16055.461378</td>\n",
       "    </tr>\n",
       "    <tr>\n",
       "      <th>2</th>\n",
       "      <td>15824</td>\n",
       "      <td>39839.191639</td>\n",
       "    </tr>\n",
       "    <tr>\n",
       "      <th>3</th>\n",
       "      <td>15825</td>\n",
       "      <td>11098.533922</td>\n",
       "    </tr>\n",
       "    <tr>\n",
       "      <th>4</th>\n",
       "      <td>15827</td>\n",
       "      <td>25333.105574</td>\n",
       "    </tr>\n",
       "  </tbody>\n",
       "</table>\n",
       "</div>"
      ],
      "text/plain": [
       "       0             1\n",
       "0  15822  13251.693829\n",
       "1  15823  16055.461378\n",
       "2  15824  39839.191639\n",
       "3  15825  11098.533922\n",
       "4  15827  25333.105574"
      ]
     },
     "execution_count": 406,
     "metadata": {},
     "output_type": "execute_result"
    }
   ],
   "source": [
    "#最終結果\n",
    "#スコア4,154\n",
    "#672位/943位\n",
    "#明らかに過学習している。\n",
    "#mean_yはあまり結果に依存していないことが分かった。\n",
    "#パラメーターを変更してもそこまで変化が無かった\n",
    "df_result.head()"
   ]
  },
  {
   "cell_type": "code",
   "execution_count": null,
   "metadata": {},
   "outputs": [],
   "source": []
  }
 ],
 "metadata": {
  "kernelspec": {
   "display_name": "Python 3",
   "language": "python",
   "name": "python3"
  },
  "language_info": {
   "codemirror_mode": {
    "name": "ipython",
    "version": 3
   },
   "file_extension": ".py",
   "mimetype": "text/x-python",
   "name": "python",
   "nbconvert_exporter": "python",
   "pygments_lexer": "ipython3",
   "version": "3.7.3"
  }
 },
 "nbformat": 4,
 "nbformat_minor": 2
}
